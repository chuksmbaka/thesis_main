{
 "cells": [
  {
   "cell_type": "code",
   "execution_count": 20,
   "id": "9cccea64",
   "metadata": {},
   "outputs": [],
   "source": [
    "import meep as mp\n",
    "import matplotlib.pyplot as plt\n",
    "import numpy as np\n",
    "from IPython.display import Video\n",
    "\n",
    "\n",
    "a = 0.000001  # unit scale in meep\n",
    "c = 299792458  # speed of light in a vacuum\n",
    "\n",
    "def freq_to_mp(frequency_in_hz):\n",
    "    meep_freq = (frequency_in_hz * a)/c\n",
    "    return meep_freq\n",
    "\n",
    "def meter_to_mp(length_in_meters):\n",
    "    aa = 1                                   # aa = 1 micro meter\n",
    "    meep_length = length_in_meters/aa\n",
    "    return meep_length\n",
    "\n",
    "def sec_to_mp(time_in_secs):\n",
    "    meep_time = time_in_secs*c/a\n",
    "    return meep_time"
   ]
  },
  {
   "cell_type": "code",
   "execution_count": null,
   "id": "ca22bb99",
   "metadata": {},
   "outputs": [],
   "source": []
  },
  {
   "cell_type": "code",
   "execution_count": 21,
   "id": "9a26555b",
   "metadata": {},
   "outputs": [],
   "source": [
    "def func():\n",
    "    resolution = 20\n",
    "    cell_size = mp.Vector3(18, 14)\n",
    "    pml_layers = [mp.PML(thickness=2)]\n",
    "\n",
    "    rot_angle = np.radians(20)\n",
    "    geometry = [\n",
    "        mp.Block(\n",
    "            center=mp.Vector3(),\n",
    "            size=mp.Vector3(mp.inf, 1, mp.inf),\n",
    "            e1=mp.Vector3(1, 0, 0),\n",
    "            e2=mp.Vector3(0, 1, 0),\n",
    "            material=mp.Medium(epsilon=12),\n",
    "        )\n",
    "    ]\n",
    "    \n",
    "    \n",
    "    fsrc = freq_to_mp(45e12) # frequency of eigenmode or constant-amplitude source\n",
    "    print(\"freq, \", fsrc)\n",
    "    kx = 1  # initial wavevector guess in x direction of the eigenmode\n",
    "    kpoint = mp.Vector3(x=kx)\n",
    "    bnum = 1  # band number of the eigenmode\n",
    "\n",
    "    \n",
    "    ############source definition\n",
    "    sources = [\n",
    "        mp.EigenModeSource(\n",
    "            #src=mp.ContinuousSource(fsrc, fwidth=0.5 * fsrc),\n",
    "            src=mp.ContinuousSource(fsrc),\n",
    "            center=mp.Vector3(-7),\n",
    "            size=mp.Vector3(y=4),\n",
    "            direction=mp.NO_DIRECTION,\n",
    "            eig_kpoint=kpoint,\n",
    "            eig_band=bnum,\n",
    "            eig_match_freq=True,\n",
    "        )\n",
    "    ]\n",
    "\n",
    "    \n",
    "    #simulation\n",
    "    sim = mp.Simulation(\n",
    "        cell_size=cell_size,\n",
    "        resolution=resolution,\n",
    "        boundary_layers=pml_layers,\n",
    "        sources=sources,\n",
    "        geometry=geometry,\n",
    "    )\n",
    "\n",
    "\n",
    "    animate = mp.Animate2D(sim, mp.Ez, normalize=True, realtime=True)\n",
    "    sim.run(mp.at_every(1, animate), until=200)\n",
    "    plt.show()\n",
    "    plt.close()\n",
    "\n",
    "\n",
    "    filename = \"2d_straigth_eigcw_9jup.gif\"\n",
    "    animate.to_gif(10, filename)\n"
   ]
  },
  {
   "cell_type": "code",
   "execution_count": null,
   "id": "c681ba80",
   "metadata": {},
   "outputs": [],
   "source": []
  },
  {
   "cell_type": "code",
   "execution_count": 22,
   "id": "ccbba5b9",
   "metadata": {},
   "outputs": [
    {
     "name": "stdout",
     "output_type": "stream",
     "text": [
      "freq,  0.15010384283916842\n",
      "-----------\n",
      "Initializing structure...\n",
      "time for choose_chunkdivision = 0.00109506 s\n",
      "Working in 2D dimensions.\n",
      "Computational cell is 18 x 14 x 0 with resolution 20\n",
      "     block, center = (0,0,0)\n",
      "          size (1e+20,1,1e+20)\n",
      "          axes (1,0,0), (0,1,0), (0,0,1)\n",
      "          dielectric constant epsilon diagonal = (12,12,12)\n",
      "time for set_epsilon = 0.481743 s\n",
      "-----------\n",
      "MPB solved for frequency_1(1,0,0) = 0.309324 after 36 iters\n",
      "MPB solved for frequency_1(0.428787,0,0) = 0.151088 after 9 iters\n",
      "MPB solved for frequency_1(0.425244,0,0) = 0.150104 after 7 iters\n",
      "MPB solved for frequency_1(0.425244,0,0) = 0.150104 after 2 iters\n"
     ]
    },
    {
     "data": {
      "image/png": "[encoded data removed]",
      "text/plain": [
       "<Figure size 432x288 with 1 Axes>"
      ]
     },
     "metadata": {
      "needs_background": "light"
     },
     "output_type": "display_data"
    },
    {
     "name": "stdout",
     "output_type": "stream",
     "text": [
      "Meep progress: 1.0/200.0 = 0.5% done in 4.1s, 817.0s to go\n",
      "on time step 40 (time=1), 0.102635 s/step\n",
      "Meep progress: 8.25/200.0 = 4.1% done in 8.1s, 188.4s to go\n",
      "on time step 330 (time=8.25), 0.0137967 s/step\n",
      "Meep progress: 15.600000000000001/200.0 = 7.8% done in 12.1s, 143.1s to go\n",
      "on time step 625 (time=15.625), 0.0135744 s/step\n",
      "Meep progress: 22.425/200.0 = 11.2% done in 16.1s, 127.6s to go\n",
      "on time step 897 (time=22.425), 0.0147143 s/step\n",
      "Meep progress: 30.75/200.0 = 15.4% done in 20.1s, 110.8s to go\n",
      "on time step 1231 (time=30.775), 0.0119995 s/step\n",
      "Meep progress: 40.625/200.0 = 20.3% done in 24.1s, 94.7s to go\n",
      "on time step 1627 (time=40.675), 0.0101183 s/step\n",
      "Meep progress: 50.75/200.0 = 25.4% done in 28.1s, 82.8s to go\n",
      "on time step 2031 (time=50.775), 0.00993266 s/step\n",
      "Meep progress: 59.825/200.0 = 29.9% done in 32.1s, 75.3s to go\n",
      "on time step 2394 (time=59.85), 0.0110262 s/step\n",
      "Meep progress: 70.0/200.0 = 35.0% done in 36.2s, 67.2s to go\n",
      "on time step 2800 (time=70), 0.00993713 s/step\n",
      "Meep progress: 80.92500000000001/200.0 = 40.5% done in 40.2s, 59.2s to go\n",
      "on time step 3237 (time=80.925), 0.0091552 s/step\n",
      "Meep progress: 91.0/200.0 = 45.5% done in 44.2s, 53.0s to go\n",
      "on time step 3640 (time=91), 0.0100211 s/step\n",
      "Meep progress: 100.325/200.0 = 50.2% done in 48.3s, 47.9s to go\n",
      "on time step 4013 (time=100.325), 0.0107619 s/step\n",
      "Meep progress: 109.775/200.0 = 54.9% done in 52.3s, 43.0s to go\n",
      "on time step 4392 (time=109.8), 0.0105765 s/step\n",
      "Meep progress: 119.0/200.0 = 59.5% done in 56.3s, 38.3s to go\n",
      "on time step 4760 (time=119), 0.0109761 s/step\n",
      "Meep progress: 129.25/200.0 = 64.6% done in 60.3s, 33.0s to go\n",
      "on time step 5170 (time=129.25), 0.0097616 s/step\n",
      "Meep progress: 138.70000000000002/200.0 = 69.4% done in 64.3s, 28.4s to go\n",
      "on time step 5548 (time=138.7), 0.0105856 s/step\n",
      "Meep progress: 148.0/200.0 = 74.0% done in 68.4s, 24.0s to go\n",
      "on time step 5920 (time=148), 0.0108898 s/step\n",
      "Meep progress: 158.0/200.0 = 79.0% done in 72.4s, 19.2s to go\n",
      "on time step 6320 (time=158), 0.0101082 s/step\n",
      "Meep progress: 166.97500000000002/200.0 = 83.5% done in 76.4s, 15.1s to go\n",
      "on time step 6679 (time=166.975), 0.0111476 s/step\n",
      "Meep progress: 176.82500000000002/200.0 = 88.4% done in 80.4s, 10.5s to go\n",
      "on time step 7073 (time=176.825), 0.0101572 s/step\n",
      "Meep progress: 186.82500000000002/200.0 = 93.4% done in 84.4s, 6.0s to go\n",
      "on time step 7475 (time=186.875), 0.00996492 s/step\n",
      "Meep progress: 196.32500000000002/200.0 = 98.2% done in 88.4s, 1.7s to go\n",
      "on time step 7854 (time=196.35), 0.0105975 s/step\n",
      "Normalizing field data...\n",
      "run 0 finished at t = 200.0 (8000 timesteps)\n",
      "Generating GIF...\n"
     ]
    }
   ],
   "source": [
    "if __name__ == '__main__':\n",
    "    func()"
   ]
  },
  {
   "cell_type": "code",
   "execution_count": null,
   "id": "8bac7560",
   "metadata": {},
   "outputs": [],
   "source": []
  }
 ],
 "metadata": {
  "kernelspec": {
   "display_name": "Python 3 (ipykernel)",
   "language": "python",
   "name": "python3"
  },
  "language_info": {
   "codemirror_mode": {
    "name": "ipython",
    "version": 3
   },
   "file_extension": ".py",
   "mimetype": "text/x-python",
   "name": "python",
   "nbconvert_exporter": "python",
   "pygments_lexer": "ipython3",
   "version": "3.10.6"
  }
 },
 "nbformat": 4,
 "nbformat_minor": 5
}
